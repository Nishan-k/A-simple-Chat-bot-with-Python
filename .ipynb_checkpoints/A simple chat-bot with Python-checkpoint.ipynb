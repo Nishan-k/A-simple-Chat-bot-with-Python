{
 "cells": [
  {
   "cell_type": "markdown",
   "id": "ab27c421",
   "metadata": {},
   "source": [
    "## 1. Import the libraries:"
   ]
  },
  {
   "cell_type": "code",
   "execution_count": 1,
   "id": "8dd4e0f2",
   "metadata": {},
   "outputs": [],
   "source": [
    "from nltk.chat.util import Chat, reflections"
   ]
  },
  {
   "cell_type": "markdown",
   "id": "8895c5ef",
   "metadata": {},
   "source": [
    "## 2. Create Queries and Response:"
   ]
  },
  {
   "cell_type": "markdown",
   "id": "b5324caf",
   "metadata": {},
   "source": [
    "The goal of chat bot is to handle a repetitive tasks in business when dealing with customers. For a business if we can \n",
    "find out for what reasons do customers normally call then we could use chat bot to respond to the customers. For example,\n",
    "in a restaurant, the customers normally call to book a table or order the food to be delivered, for these repetitive tasks, we could \n",
    "make a good use of chatbots."
   ]
  },
  {
   "cell_type": "code",
   "execution_count": null,
   "id": "26897650",
   "metadata": {},
   "outputs": [],
   "source": []
  }
 ],
 "metadata": {
  "kernelspec": {
   "display_name": "Python 3 (ipykernel)",
   "language": "python",
   "name": "python3"
  },
  "language_info": {
   "codemirror_mode": {
    "name": "ipython",
    "version": 3
   },
   "file_extension": ".py",
   "mimetype": "text/x-python",
   "name": "python",
   "nbconvert_exporter": "python",
   "pygments_lexer": "ipython3",
   "version": "3.10.4"
  }
 },
 "nbformat": 4,
 "nbformat_minor": 5
}
